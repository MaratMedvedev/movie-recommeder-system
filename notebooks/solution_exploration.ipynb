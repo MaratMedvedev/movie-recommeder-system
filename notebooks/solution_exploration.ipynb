{
 "cells": [
  {
   "cell_type": "code",
   "execution_count": 77,
   "outputs": [
    {
     "name": "stderr",
     "output_type": "stream",
     "text": [
      "C:\\Users\\freid\\AppData\\Local\\Temp\\ipykernel_11632\\648380794.py:3: ParserWarning: Length of header or names does not match length of data. This leads to a loss of data with index_col=False.\n",
      "  rating_df = pd.read_csv(\"../data/raw/ml-100k/u.data\", sep=\"\\t\", index_col=False, names=[\"userID\", \"itemID\", \"rating\"])\n"
     ]
    },
    {
     "data": {
      "text/plain": "   userID  itemID  rating\n0     196     242       3\n1     186     302       3\n2      22     377       1\n3     244      51       2\n4     166     346       1\n5     298     474       4\n6     115     265       2\n7     253     465       5\n8     305     451       3\n9       6      86       3",
      "text/html": "<div>\n<style scoped>\n    .dataframe tbody tr th:only-of-type {\n        vertical-align: middle;\n    }\n\n    .dataframe tbody tr th {\n        vertical-align: top;\n    }\n\n    .dataframe thead th {\n        text-align: right;\n    }\n</style>\n<table border=\"1\" class=\"dataframe\">\n  <thead>\n    <tr style=\"text-align: right;\">\n      <th></th>\n      <th>userID</th>\n      <th>itemID</th>\n      <th>rating</th>\n    </tr>\n  </thead>\n  <tbody>\n    <tr>\n      <th>0</th>\n      <td>196</td>\n      <td>242</td>\n      <td>3</td>\n    </tr>\n    <tr>\n      <th>1</th>\n      <td>186</td>\n      <td>302</td>\n      <td>3</td>\n    </tr>\n    <tr>\n      <th>2</th>\n      <td>22</td>\n      <td>377</td>\n      <td>1</td>\n    </tr>\n    <tr>\n      <th>3</th>\n      <td>244</td>\n      <td>51</td>\n      <td>2</td>\n    </tr>\n    <tr>\n      <th>4</th>\n      <td>166</td>\n      <td>346</td>\n      <td>1</td>\n    </tr>\n    <tr>\n      <th>5</th>\n      <td>298</td>\n      <td>474</td>\n      <td>4</td>\n    </tr>\n    <tr>\n      <th>6</th>\n      <td>115</td>\n      <td>265</td>\n      <td>2</td>\n    </tr>\n    <tr>\n      <th>7</th>\n      <td>253</td>\n      <td>465</td>\n      <td>5</td>\n    </tr>\n    <tr>\n      <th>8</th>\n      <td>305</td>\n      <td>451</td>\n      <td>3</td>\n    </tr>\n    <tr>\n      <th>9</th>\n      <td>6</td>\n      <td>86</td>\n      <td>3</td>\n    </tr>\n  </tbody>\n</table>\n</div>"
     },
     "execution_count": 77,
     "metadata": {},
     "output_type": "execute_result"
    }
   ],
   "source": [
    "import pandas as pd\n",
    "import numpy as np\n",
    "rating_df = pd.read_csv(\"../data/raw/ml-100k/u.data\", sep=\"\\t\", index_col=False, names=[\"userID\", \"itemID\", \"rating\"])\n",
    "rating_df.head(10)"
   ],
   "metadata": {
    "collapsed": false,
    "ExecuteTime": {
     "end_time": "2023-12-01T11:10:27.861293800Z",
     "start_time": "2023-12-01T11:10:27.705442Z"
    }
   },
   "id": "403eeef426a12267"
  },
  {
   "cell_type": "code",
   "execution_count": 78,
   "outputs": [
    {
     "name": "stdout",
     "output_type": "stream",
     "text": [
      "[[5. 3. 4. ... 0. 0. 0.]\n",
      " [4. 0. 0. ... 0. 0. 0.]\n",
      " [0. 0. 0. ... 0. 0. 0.]\n",
      " ...\n",
      " [5. 0. 0. ... 0. 0. 0.]\n",
      " [0. 0. 0. ... 0. 0. 0.]\n",
      " [0. 5. 0. ... 0. 0. 0.]]\n"
     ]
    }
   ],
   "source": [
    "# From u.info\n",
    "# 943 users\n",
    "# 1682 items\n",
    "# 100000 ratings\n",
    "user_item_matrix = np.zeros((943,1682), dtype=float)\n",
    "for index, r in rating_df.iterrows():\n",
    "    user_item_matrix[r[\"userID\"]-1][r[\"itemID\"]-1] = r[\"rating\"]\n",
    "    \n",
    "print(user_item_matrix)"
   ],
   "metadata": {
    "collapsed": false,
    "ExecuteTime": {
     "end_time": "2023-12-01T11:10:35.160724Z",
     "start_time": "2023-12-01T11:10:29.160980Z"
    }
   },
   "id": "691c236f85f31bac"
  },
  {
   "cell_type": "code",
   "execution_count": 79,
   "outputs": [],
   "source": [
    "import numpy as np\n",
    "\n",
    "fraction = 0.85  # Adjust the fraction\n",
    "\n",
    "np.random.shuffle(user_item_matrix)\n",
    "\n",
    "split_index = int(len(user_item_matrix) * fraction)\n",
    "\n",
    "train_user_item_matrix = user_item_matrix[:split_index]\n",
    "test_user_item_matrix = user_item_matrix[split_index:]"
   ],
   "metadata": {
    "collapsed": false,
    "ExecuteTime": {
     "end_time": "2023-12-01T11:10:35.224097300Z",
     "start_time": "2023-12-01T11:10:35.160724Z"
    }
   },
   "id": "bdb56d7b87e0372e"
  },
  {
   "cell_type": "code",
   "execution_count": 80,
   "outputs": [
    {
     "data": {
      "text/plain": "array([[0., 0., 0., ..., 0., 0., 0.],\n       [0., 4., 0., ..., 0., 0., 0.],\n       [4., 0., 0., ..., 0., 0., 0.]])"
     },
     "execution_count": 80,
     "metadata": {},
     "output_type": "execute_result"
    }
   ],
   "source": [
    "train_user_item_matrix[:3]"
   ],
   "metadata": {
    "collapsed": false,
    "ExecuteTime": {
     "end_time": "2023-12-01T11:10:35.225342900Z",
     "start_time": "2023-12-01T11:10:35.176384300Z"
    }
   },
   "id": "38b142d1e7e50ec9"
  },
  {
   "cell_type": "code",
   "execution_count": 81,
   "outputs": [
    {
     "name": "stdout",
     "output_type": "stream",
     "text": [
      "Predictions:\n",
      " [[-8.59726436e-02  6.90809298e-02  1.25432370e-02 ...  3.13618089e-02\n",
      "   5.61344715e-03 -2.00547376e-02]\n",
      " [ 2.38266370e+00  1.00161118e+00  2.95527665e-01 ... -2.21234193e-03\n",
      "  -5.77816510e-03  6.71655042e-03]\n",
      " [ 2.97739289e+00  1.12167586e-01  4.24010302e-01 ... -6.71979517e-04\n",
      "  -2.52111770e-02  7.13100985e-03]\n",
      " ...\n",
      " [ 1.57577147e+00 -1.41119783e-01  2.42876223e-01 ... -9.72922132e-03\n",
      "  -2.07789124e-02 -1.06994261e-02]\n",
      " [ 2.57327370e-01 -9.64780964e-02  8.62849777e-02 ...  2.00987848e-02\n",
      "  -1.92475913e-02 -1.26805127e-03]\n",
      " [-5.59489575e-01 -7.35788636e-01  9.81782014e-01 ...  6.02810242e-03\n",
      "  -3.33947500e-02  4.34429586e-02]]\n"
     ]
    }
   ],
   "source": [
    "def als(matrix, latent_features, iterations=10, lambda_reg=0.01):\n",
    "    \"\"\"\n",
    "    Alternating Least Squares (ALS) matrix factorization.\n",
    "\n",
    "    Parameters:\n",
    "    - matrix: User-Item interaction matrix to factorize.\n",
    "    - latent_features: Number of latent features.\n",
    "    - iterations: Number of iterations.\n",
    "    - lambda_reg: Regularization parameter.\n",
    "\n",
    "    Returns:\n",
    "    - user_matrix: Factorized user matrix.\n",
    "    - item_matrix: Factorized item matrix.\n",
    "    \"\"\"\n",
    "\n",
    "    num_users, num_items = matrix.shape\n",
    "\n",
    "    # Initialize user and item matrices with random values\n",
    "    user_matrix = np.random.rand(num_users, latent_features)\n",
    "    item_matrix = np.random.rand(num_items, latent_features)\n",
    "\n",
    "    # ALS iterations\n",
    "    for _ in range(iterations):\n",
    "        # Update user matrix while fixing item matrix\n",
    "        for i in range(num_users):\n",
    "            matrix_i = matrix[i, :].reshape((1, -1))  # Extract user's ratings\n",
    "            item_matrix_transpose = item_matrix.T\n",
    "            user_matrix[i, :] = np.linalg.solve(\n",
    "                np.dot(item_matrix_transpose, item_matrix) + lambda_reg * np.eye(latent_features),\n",
    "                np.dot(item_matrix_transpose, matrix_i.T)\n",
    "            ).flatten()\n",
    "\n",
    "        # Update item matrix while fixing user matrix\n",
    "        for j in range(num_items):\n",
    "            matrix_j = matrix[:, j].reshape((-1, 1))  # Extract item's ratings\n",
    "            user_matrix_transpose = user_matrix.T\n",
    "            item_matrix[j, :] = np.linalg.solve(\n",
    "                np.dot(user_matrix_transpose, user_matrix) + lambda_reg * np.eye(latent_features),\n",
    "                np.dot(user_matrix_transpose, matrix_j)\n",
    "            ).flatten()\n",
    "\n",
    "    return user_matrix, item_matrix\n",
    "\n",
    "# Example usage:\n",
    "# Assuming 'user_item_matrix' is your user-item interaction matrix\n",
    "latent_features = 70\n",
    "iterations = 10\n",
    "lambda_reg = 0.000001\n",
    "\n",
    "user_matrix, item_matrix = als(train_user_item_matrix, latent_features, iterations, lambda_reg)\n",
    "\n",
    "# Predictions can be obtained by multiplying the factorized matrices\n",
    "predictions = np.dot(user_matrix, item_matrix.T)\n",
    "print(\"Predictions:\\n\", predictions)"
   ],
   "metadata": {
    "collapsed": false,
    "ExecuteTime": {
     "end_time": "2023-12-01T11:12:10.411934200Z",
     "start_time": "2023-12-01T11:10:35.210440700Z"
    }
   },
   "id": "initial_id"
  },
  {
   "cell_type": "code",
   "execution_count": 84,
   "outputs": [
    {
     "name": "stdout",
     "output_type": "stream",
     "text": [
      "0.29359786528677945\n"
     ]
    }
   ],
   "source": [
    "print(np.mean((predictions - train_user_item_matrix) ** 2))"
   ],
   "metadata": {
    "collapsed": false,
    "ExecuteTime": {
     "end_time": "2023-12-01T11:12:45.749918700Z",
     "start_time": "2023-12-01T11:12:45.717731300Z"
    }
   },
   "id": "7b941632325c0599"
  },
  {
   "cell_type": "code",
   "execution_count": 85,
   "outputs": [
    {
     "name": "stdout",
     "output_type": "stream",
     "text": [
      "Right Inverse:\n",
      " [[ 9.18673032e-04  2.09945003e-03  2.86402029e-03 ... -2.46221555e-03\n",
      "  -2.65053830e-04  1.89654445e-03]\n",
      " [-1.60686684e-04 -2.82535972e-04  8.38136717e-04 ...  9.34875745e-04\n",
      "  -7.92699307e-04 -1.00329352e-04]\n",
      " [-1.75538874e-03 -1.01639667e-03  1.39263313e-03 ...  7.53378685e-04\n",
      "  -2.18741926e-05 -7.26201232e-04]\n",
      " ...\n",
      " [-4.47214986e-05 -4.03808601e-07  4.53196086e-05 ...  3.89841024e-05\n",
      "  -1.35874361e-05  3.02096818e-05]\n",
      " [-1.20521923e-04  5.39029664e-05  1.29393499e-04 ... -5.36012567e-05\n",
      "  -5.71493752e-05 -3.00501180e-05]\n",
      " [ 9.29388644e-05  5.67127672e-05  5.20285242e-05 ...  6.07513393e-05\n",
      "   3.02778417e-05  5.55565516e-05]]\n",
      "Verification (A * A^+):\n",
      " 1.656361917794222e-31\n"
     ]
    }
   ],
   "source": [
    "import numpy as np\n",
    "\n",
    "# Example matrix A\n",
    "A = item_matrix.T\n",
    "\n",
    "# Compute the right inverse using the pseudo-inverse\n",
    "A_plus = np.linalg.pinv(A)\n",
    "\n",
    "# Verify the right inverse property\n",
    "identity_matrix = A @ A_plus\n",
    "I = np.eye(identity_matrix.shape[0])\n",
    "print(\"Right Inverse:\\n\", A_plus)\n",
    "print(\"Verification (A * A^+):\\n\", np.mean((identity_matrix - I) ** 2))\n"
   ],
   "metadata": {
    "collapsed": false,
    "ExecuteTime": {
     "end_time": "2023-12-01T11:12:48.167749700Z",
     "start_time": "2023-12-01T11:12:48.086208Z"
    }
   },
   "id": "7b718db02fe3a8b8"
  },
  {
   "cell_type": "code",
   "execution_count": 185,
   "outputs": [
    {
     "name": "stdout",
     "output_type": "stream",
     "text": [
      "(array([  8,  63,  70, 125, 236, 294, 299, 322, 470, 471, 594, 844, 865,\n",
      "       933], dtype=int64),)\n"
     ]
    },
    {
     "ename": "ValueError",
     "evalue": "setting an array element with a sequence. The requested array has an inhomogeneous shape after 1 dimensions. The detected shape was (142,) + inhomogeneous part.",
     "output_type": "error",
     "traceback": [
      "\u001B[1;31m---------------------------------------------------------------------------\u001B[0m",
      "\u001B[1;31mValueError\u001B[0m                                Traceback (most recent call last)",
      "Cell \u001B[1;32mIn [185], line 18\u001B[0m\n\u001B[0;32m     16\u001B[0m     y_test\u001B[38;5;241m.\u001B[39mappend(\u001B[38;5;28msorted\u001B[39m(\u001B[38;5;28mlist\u001B[39m(idxs), key\u001B[38;5;241m=\u001B[39m\u001B[38;5;28;01mlambda\u001B[39;00m x: test_user_item_matrix[i][x], reverse\u001B[38;5;241m=\u001B[39m\u001B[38;5;28;01mTrue\u001B[39;00m))\n\u001B[0;32m     17\u001B[0m \u001B[38;5;28mprint\u001B[39m(np\u001B[38;5;241m.\u001B[39mnonzero(X_test[\u001B[38;5;241m0\u001B[39m]))\n\u001B[1;32m---> 18\u001B[0m y_test \u001B[38;5;241m=\u001B[39m \u001B[43mnp\u001B[49m\u001B[38;5;241;43m.\u001B[39;49m\u001B[43marray\u001B[49m\u001B[43m(\u001B[49m\u001B[43my_test\u001B[49m\u001B[43m)\u001B[49m\n\u001B[0;32m     19\u001B[0m \u001B[38;5;28mprint\u001B[39m(y_test[\u001B[38;5;241m0\u001B[39m])\n",
      "\u001B[1;31mValueError\u001B[0m: setting an array element with a sequence. The requested array has an inhomogeneous shape after 1 dimensions. The detected shape was (142,) + inhomogeneous part."
     ]
    }
   ],
   "source": [
    "def predict(user_ratings):\n",
    "    user_latent_features = user_ratings @ A_plus\n",
    "    return user_latent_features\n",
    "\n",
    "n_start_rating = 15\n",
    "X_test = np.empty((len(test_user_item_matrix), 1682))\n",
    "y_test = []\n",
    "for i in range(len(test_user_item_matrix)):\n",
    "    \n",
    "    idxs = np.nonzero(test_user_item_matrix[i])\n",
    "    idxs = np.array(idxs)[0]\n",
    "    X_idxs = np.random.choice(idxs, size=n_start_rating)\n",
    "    X = np.zeros(1682)\n",
    "    X[X_idxs] = test_user_item_matrix[i][X_idxs]\n",
    "    X_test[i] = X\n",
    "    y_test.append(sorted(list(idxs), key=lambda x: test_user_item_matrix[i][x], reverse=True))\n",
    "print(np.nonzero(X_test[0]))\n",
    "print(y_test[0])\n"
   ],
   "metadata": {
    "collapsed": false,
    "ExecuteTime": {
     "end_time": "2023-12-01T15:19:45.832739700Z",
     "start_time": "2023-12-01T15:19:45.714595100Z"
    }
   },
   "id": "9b9f3067ca381161"
  },
  {
   "cell_type": "code",
   "execution_count": 198,
   "outputs": [
    {
     "ename": "ImportError",
     "evalue": "cannot import name 'ndcg_metric' from 'metrics.NDCG' (C:\\Users\\freid\\PycharmProjects\\movie-recommeder-system\\metrics\\NDCG.py)",
     "output_type": "error",
     "traceback": [
      "\u001B[1;31m---------------------------------------------------------------------------\u001B[0m",
      "\u001B[1;31mImportError\u001B[0m                               Traceback (most recent call last)",
      "Cell \u001B[1;32mIn [198], line 4\u001B[0m\n\u001B[0;32m      1\u001B[0m \u001B[38;5;28;01mfrom\u001B[39;00m \u001B[38;5;21;01msklearn\u001B[39;00m\u001B[38;5;21;01m.\u001B[39;00m\u001B[38;5;21;01mneighbors\u001B[39;00m \u001B[38;5;28;01mimport\u001B[39;00m NearestNeighbors\n\u001B[0;32m      3\u001B[0m \u001B[38;5;28;01mfrom\u001B[39;00m \u001B[38;5;21;01mmetrics\u001B[39;00m\u001B[38;5;21;01m.\u001B[39;00m\u001B[38;5;21;01mavg_f1_score\u001B[39;00m \u001B[38;5;28;01mimport\u001B[39;00m average_f1_score\n\u001B[1;32m----> 4\u001B[0m \u001B[38;5;28;01mfrom\u001B[39;00m \u001B[38;5;21;01mmetrics\u001B[39;00m\u001B[38;5;21;01m.\u001B[39;00m\u001B[38;5;21;01mNDCG\u001B[39;00m \u001B[38;5;28;01mimport\u001B[39;00m ndcg_metric\n\u001B[0;32m      5\u001B[0m \u001B[38;5;66;03m# Fit the NearestNeighbors model with cosine similarity\u001B[39;00m\n\u001B[0;32m      6\u001B[0m nbrs \u001B[38;5;241m=\u001B[39m NearestNeighbors(n_neighbors\u001B[38;5;241m=\u001B[39m\u001B[38;5;241m3\u001B[39m, metric\u001B[38;5;241m=\u001B[39m\u001B[38;5;124m'\u001B[39m\u001B[38;5;124mminkowski\u001B[39m\u001B[38;5;124m'\u001B[39m)\n",
      "\u001B[1;31mImportError\u001B[0m: cannot import name 'ndcg_metric' from 'metrics.NDCG' (C:\\Users\\freid\\PycharmProjects\\movie-recommeder-system\\metrics\\NDCG.py)"
     ]
    }
   ],
   "source": [
    "from sklearn.neighbors import NearestNeighbors\n",
    "\n",
    "from metrics.avg_f1_score import average_f1_score\n",
    "from metrics.NDCG import ndcg_metric\n",
    "# Fit the NearestNeighbors model with cosine similarity\n",
    "nbrs = NearestNeighbors(n_neighbors=3, metric='minkowski')\n",
    "nbrs.fit(user_matrix)\n",
    "K = 20\n",
    "# Example usage\n",
    "avg_ndcg = 0\n",
    "s= 0 \n",
    "for i in range(len(X_test)):\n",
    "    q = X_test[i]\n",
    "    distances, indices = nbrs.kneighbors([q @ A_plus])\n",
    "    non_zero_columns = np.where(np.any(user_item_matrix[indices[0]] > 0, axis=0))[0]\n",
    "    rating_sum_for_film = np.sum(user_item_matrix[:, non_zero_columns], axis=0)\n",
    "    non_zero_rating_for_film = np.sum(user_item_matrix[:, non_zero_columns] > 0, axis=0)\n",
    "    avg_rating_film = rating_sum_for_film / non_zero_rating_for_film\n",
    "    films = zip(list(non_zero_columns), list(avg_rating_film))\n",
    "    films = [i[0] for i in sorted(films, key=lambda x: x[1], reverse=True)][:K]\n",
    "    best_sc = np.sort(test_user_item_matrix[i][test_user_item_matrix[i] > 0])[::-1]\n",
    "    s+=len(set(y_test[i]) & set(films)) / len(y_test[i])\n",
    "    pred = test_user_item_matrix[i][films]\n",
    "    avg_ndcg += ndcg_metric(pred, list(best_sc[:K]))\n",
    "print(s / len(X_test))\n",
    "print(avg_ndcg / len(X_test))"
   ],
   "metadata": {
    "collapsed": false,
    "ExecuteTime": {
     "end_time": "2023-12-01T15:27:31.191343900Z",
     "start_time": "2023-12-01T15:27:31.150389400Z"
    }
   },
   "id": "5a450a7170ef2b93"
  },
  {
   "cell_type": "code",
   "execution_count": null,
   "outputs": [],
   "source": [],
   "metadata": {
    "collapsed": false
   },
   "id": "adb1aca730241afc"
  }
 ],
 "metadata": {
  "kernelspec": {
   "display_name": "Python 3",
   "language": "python",
   "name": "python3"
  },
  "language_info": {
   "codemirror_mode": {
    "name": "ipython",
    "version": 2
   },
   "file_extension": ".py",
   "mimetype": "text/x-python",
   "name": "python",
   "nbconvert_exporter": "python",
   "pygments_lexer": "ipython2",
   "version": "2.7.6"
  }
 },
 "nbformat": 4,
 "nbformat_minor": 5
}
