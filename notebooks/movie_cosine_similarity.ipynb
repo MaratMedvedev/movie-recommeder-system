{
 "cells": [
  {
   "cell_type": "code",
   "execution_count": 20,
   "id": "initial_id",
   "metadata": {
    "collapsed": true,
    "ExecuteTime": {
     "end_time": "2023-12-02T22:24:01.833238Z",
     "start_time": "2023-12-02T22:24:01.695858900Z"
    }
   },
   "outputs": [
    {
     "name": "stderr",
     "output_type": "stream",
     "text": [
      "C:\\Users\\freid\\AppData\\Local\\Temp\\ipykernel_36880\\2200433025.py:4: ParserWarning: Length of header or names does not match length of data. This leads to a loss of data with index_col=False.\n",
      "  rating_df = pd.read_csv(\"../data/raw/ml-100k/u.data\", sep=\"\\t\", index_col=False, names=[\"userID\", \"itemID\", \"rating\"])\n"
     ]
    },
    {
     "data": {
      "text/plain": "   userID  itemID  rating\n0     196     242       3\n1     186     302       3\n2      22     377       1\n3     244      51       2\n4     166     346       1\n5     298     474       4\n6     115     265       2\n7     253     465       5\n8     305     451       3\n9       6      86       3",
      "text/html": "<div>\n<style scoped>\n    .dataframe tbody tr th:only-of-type {\n        vertical-align: middle;\n    }\n\n    .dataframe tbody tr th {\n        vertical-align: top;\n    }\n\n    .dataframe thead th {\n        text-align: right;\n    }\n</style>\n<table border=\"1\" class=\"dataframe\">\n  <thead>\n    <tr style=\"text-align: right;\">\n      <th></th>\n      <th>userID</th>\n      <th>itemID</th>\n      <th>rating</th>\n    </tr>\n  </thead>\n  <tbody>\n    <tr>\n      <th>0</th>\n      <td>196</td>\n      <td>242</td>\n      <td>3</td>\n    </tr>\n    <tr>\n      <th>1</th>\n      <td>186</td>\n      <td>302</td>\n      <td>3</td>\n    </tr>\n    <tr>\n      <th>2</th>\n      <td>22</td>\n      <td>377</td>\n      <td>1</td>\n    </tr>\n    <tr>\n      <th>3</th>\n      <td>244</td>\n      <td>51</td>\n      <td>2</td>\n    </tr>\n    <tr>\n      <th>4</th>\n      <td>166</td>\n      <td>346</td>\n      <td>1</td>\n    </tr>\n    <tr>\n      <th>5</th>\n      <td>298</td>\n      <td>474</td>\n      <td>4</td>\n    </tr>\n    <tr>\n      <th>6</th>\n      <td>115</td>\n      <td>265</td>\n      <td>2</td>\n    </tr>\n    <tr>\n      <th>7</th>\n      <td>253</td>\n      <td>465</td>\n      <td>5</td>\n    </tr>\n    <tr>\n      <th>8</th>\n      <td>305</td>\n      <td>451</td>\n      <td>3</td>\n    </tr>\n    <tr>\n      <th>9</th>\n      <td>6</td>\n      <td>86</td>\n      <td>3</td>\n    </tr>\n  </tbody>\n</table>\n</div>"
     },
     "execution_count": 20,
     "metadata": {},
     "output_type": "execute_result"
    }
   ],
   "source": [
    "import pandas as pd\n",
    "import numpy as np\n",
    "\n",
    "rating_df = pd.read_csv(\"../data/raw/ml-100k/u.data\", sep=\"\\t\", index_col=False, names=[\"userID\", \"itemID\", \"rating\"])\n",
    "rating_df.head(10)"
   ]
  },
  {
   "cell_type": "code",
   "execution_count": 21,
   "outputs": [
    {
     "name": "stdout",
     "output_type": "stream",
     "text": [
      "[[(4, 60), (3, 188), (4, 32), (4, 159), (4, 19), (5, 201), (5, 170), (4, 264), (2, 154), (3, 116), (4, 46), (4, 221), (5, 252), (5, 112), (4, 226), (3, 16), (4, 89), (5, 63), (3, 91), (5, 227), (1, 265), (4, 120), (5, 113), (4, 131), (1, 73), (4, 133), (4, 97), (4, 185), (5, 220), (4, 83), (3, 30), (3, 69), (5, 59), (5, 176), (2, 26), (1, 259), (2, 144), (5, 173), (3, 158), (5, 81), (4, 55), (3, 271), (4, 79), (4, 228), (1, 139), (2, 224), (5, 234), (1, 119), (3, 124), (3, 214), (5, 5), (1, 103), (3, 48), (4, 205), (4, 75), (4, 71), (4, 184), (5, 95), (2, 212), (2, 232), (5, 257), (5, 80), (1, 77), (4, 211), (1, 142), (4, 150), (4, 50), (5, 174), (4, 106), (3, 217), (4, 208), (1, 258), (5, 107), (3, 261), (5, 11), (5, 13), (3, 96), (5, 43), (3, 52), (4, 162), (4, 209), (4, 183), (4, 156), (3, 200), (5, 149), (5, 182), (4, 247), (5, 207), (4, 127), (5, 241), (2, 147), (1, 111), (4, 192), (2, 263), (1, 218), (3, 231), (4, 235), (2, 251), (3, 199), (3, 179), (4, 249), (3, 84), (5, 90), (3, 9), (1, 253), (5, 128), (4, 240), (3, 129), (2, 254), (1, 102), (3, 117), (3, 53), (4, 266), (3, 23), (5, 85), (5, 195), (4, 38), (3, 163), (4, 229), (2, 35), (4, 22), (5, 223), (3, 72), (3, 66), (4, 64), (5, 189), (5, 99), (3, 225), (1, 242), (5, 153), (4, 213), (4, 160), (3, 61), (3, 187), (2, 101), (3, 68), (5, 169), (3, 37), (5, 8), (5, 245), (4, 21), (1, 20), (3, 178), (4, 186), (4, 134), (4, 67), (4, 145), (5, 175), (5, 165), (1, 137), (1, 246), (5, 88), (3, 1), (3, 29), (2, 62), (4, 248), (5, 268), (5, 31), (3, 140), (3, 210), (3, 39), (5, 269), (4, 132), (4, 238), (4, 193), (4, 255), (3, 219), (5, 92), (1, 7), (3, 204), (4, 233), (2, 104), (3, 146), (3, 98), (5, 0), (5, 196), (5, 172), (4, 74), (5, 267), (2, 33), (4, 143), (2, 270), (5, 118), (3, 25), (3, 157), (2, 36), (5, 180), (3, 135), (4, 256), (2, 236), (1, 130), (5, 108), (4, 181), (3, 70), (5, 222), (4, 45), (5, 168), (2, 40), (4, 161), (1, 109), (4, 65), (4, 76), (4, 198), (5, 56), (5, 49), (4, 191), (5, 177), (3, 4), (5, 86), (4, 237), (4, 155), (4, 105), (2, 166), (5, 114), (2, 10), (2, 244), (1, 34), (5, 136), (5, 126), (5, 15), (4, 78), (1, 260), (5, 44), (5, 47), (4, 24), (4, 250), (5, 194), (3, 152), (2, 100), (5, 167), (4, 122), (5, 190), (3, 3), (1, 262), (4, 202), (5, 54), (5, 41), (3, 138), (3, 239), (4, 6), (2, 148), (4, 42), (5, 164), (3, 115), (5, 197), (5, 123), (4, 94), (3, 216), (4, 57), (2, 141), (5, 215), (2, 125), (3, 82), (1, 230), (5, 203), (4, 2), (5, 206), (2, 243), (5, 18), (1, 28), (4, 17), (5, 58), (5, 14), (5, 110), (4, 51), (4, 87), (5, 12), (4, 27), (5, 171), (3, 121), (5, 151), (2, 93)], [(4, 291), (5, 250), (5, 49), (1, 313), (4, 296), (3, 289), (3, 311), (3, 280), (4, 12), (3, 279), (4, 302), (3, 307), (3, 306), (4, 256), (5, 315), (1, 314), (4, 300), (5, 312), (4, 278), (4, 298), (3, 297), (3, 18), (4, 276), (4, 281), (4, 110), (3, 257), (4, 294), (5, 241), (5, 282), (4, 275), (4, 0), (3, 304), (4, 13), (3, 286), (3, 290), (4, 292), (1, 293), (4, 309), (1, 308), (4, 305), (4, 24), (4, 272), (2, 9), (5, 310), (4, 268), (4, 254), (4, 283), (3, 273), (4, 236), (4, 299), (5, 99), (5, 126), (5, 284), (3, 288), (4, 303), (5, 271), (3, 277), (3, 287), (4, 285), (5, 274), (5, 301), (3, 295)], [(1, 334), (1, 244), (1, 336), (3, 342), (2, 322), (4, 330), (2, 293), (1, 331), (5, 327), (3, 333), (3, 349), (1, 340), (4, 317), (2, 299), (3, 344), (3, 298), (2, 323), (4, 347), (3, 350), (2, 329), (4, 326), (3, 306), (2, 271), (3, 353), (2, 263), (3, 348), (5, 320), (4, 259), (3, 267), (2, 287), (3, 354), (5, 319), (2, 257), (3, 338), (4, 341), (3, 302), (4, 328), (2, 316), (4, 180), (2, 337), (2, 301), (3, 321), (2, 351), (3, 270), (2, 332), (4, 343), (2, 325), (2, 318), (1, 324), (5, 346), (1, 335), (1, 352), (5, 339), (5, 345)], [(3, 263), (5, 302), (5, 360), (4, 356), (4, 259), (3, 355), (5, 293), (4, 287), (5, 49), (5, 353), (4, 270), (5, 299), (3, 327), (5, 257), (3, 209), (5, 328), (4, 10), (5, 326), (5, 323), (5, 358), (5, 361), (2, 357), (5, 359), (5, 300)], [(3, 1), (4, 16), (1, 438), (2, 224), (1, 109), (1, 453), (1, 423), (4, 0), (3, 362), (3, 97), (3, 101), (4, 210), (5, 381), (2, 375), (4, 61), (2, 230), (1, 376), (3, 406), (4, 23), (4, 422), (2, 393), (3, 383), (4, 266), (3, 444), (2, 166), (3, 425), (4, 221), (1, 452), (3, 402), (4, 172), (1, 240), (2, 233), (3, 153), (5, 435), (5, 41), (4, 421), (3, 138), (4, 39), (3, 89), (5, 152), (3, 93), (1, 388), (1, 410), (5, 108), (3, 229), (2, 387), (4, 226), (2, 396), (2, 443), (1, 401), (5, 99), (3, 142), (1, 369), (3, 175), (1, 440), (1, 68), (3, 416), (3, 78), (3, 417), (3, 428), (4, 384), (3, 371), (1, 420), (3, 143), (1, 242), (3, 184), (2, 392), (3, 412), (5, 88), (1, 399), (2, 79), (5, 432), (3, 218), (5, 427), (1, 258), (1, 456), (1, 409), (1, 368), (4, 434), (3, 213), (1, 363), (5, 208), (4, 390), (3, 378), (1, 380), (3, 98), (3, 20), (3, 426), (1, 450), (5, 429), (4, 134), (2, 448), (3, 225), (5, 400), (3, 404), (4, 442), (5, 256), (3, 24), (1, 441), (5, 185), (4, 431), (4, 193), (2, 228), (4, 182), (1, 439), (4, 28), (1, 377), (2, 391), (5, 389), (5, 100), (4, 207), (3, 398), (1, 455), (3, 167), (4, 49), (5, 407), (1, 415), (1, 161), (4, 94), (1, 451), (2, 394), (5, 171), (3, 413), (4, 69), (1, 436), (3, 150), (1, 414), (1, 370), (5, 395), (2, 397), (4, 203), (1, 215), (3, 419), (1, 437), (3, 386), (3, 446), (5, 227), (3, 249), (1, 144), (2, 408), (2, 385), (1, 449), (4, 234), (5, 168), (3, 430), (4, 120), (3, 373), (1, 364), (5, 188), (4, 445), (1, 405), (4, 238), (2, 424), (1, 65), (3, 365), (4, 454), (3, 366), (5, 433), (1, 62), (5, 180), (3, 411), (5, 162), (2, 403), (3, 382), (4, 232), (2, 199), (3, 379), (3, 104), (3, 209), (2, 447), (3, 418), (3, 374), (3, 372), (1, 367), (5, 173)]]\n"
     ]
    }
   ],
   "source": [
    "# From u.info\n",
    "# 943 users\n",
    "# 1682 items\n",
    "# 100000 ratings\n",
    "min_num_of_items_that_user_rate = 18\n",
    "\n",
    "user_items_list = []  # Will contains the list of items that user rate and ratings\n",
    "for i in range(943):\n",
    "    user_items_list.append([])\n",
    "\n",
    "for index, r in rating_df.iterrows():\n",
    "    user_items_list[r[\"userID\"] - 1].append((r[\"rating\"], r[\"itemID\"] - 1))\n",
    "print(user_items_list[:5])"
   ],
   "metadata": {
    "collapsed": false,
    "ExecuteTime": {
     "end_time": "2023-12-02T22:24:06.160188100Z",
     "start_time": "2023-12-02T22:24:01.778142500Z"
    }
   },
   "id": "56d127be04f37898"
  },
  {
   "cell_type": "code",
   "execution_count": 22,
   "outputs": [],
   "source": [
    "import random\n",
    "\n",
    "frac = 0.85\n",
    "splt_idx = int(frac * len(user_items_list))\n",
    "train_data = user_items_list[:splt_idx]\n",
    "y_test = user_items_list[splt_idx:]\n",
    "X_test = []\n",
    "for items_rating in y_test:\n",
    "    X_test.append(random.choices(items_rating, k=min_num_of_items_that_user_rate))"
   ],
   "metadata": {
    "collapsed": false,
    "ExecuteTime": {
     "end_time": "2023-12-02T22:24:06.222179100Z",
     "start_time": "2023-12-02T22:24:06.160188100Z"
    }
   },
   "id": "5cb06bdbae170634"
  },
  {
   "cell_type": "code",
   "execution_count": 45,
   "outputs": [],
   "source": [
    "from sklearn.neighbors import NearestNeighbors\n",
    "\n",
    "class ItemToItemCollaborativeFiltering:\n",
    "    def __init__(self, n_items, n_users, n_neighbors=5):\n",
    "        self.n_users = n_users\n",
    "        self.n_items = n_items\n",
    "        self.n_neighbors = n_neighbors\n",
    "        self.KNN = NearestNeighbors(n_neighbors=n_neighbors, metric='cosine')\n",
    "        \n",
    "    @staticmethod\n",
    "    def mean(lst):\n",
    "        if len(lst) == 0:\n",
    "            return 0.\n",
    "        return sum(lst) / len(lst)\n",
    "    def fit(self, user_items_list):\n",
    "        # usr_items_list should be in following format:\n",
    "        # [\n",
    "        # [(some_rating_of_user_0, some_item_idx_for_user_0), ...],\n",
    "        # [(some_rating_of_user_1, some_item_idx_for_user_1), ...]\n",
    "        # ]\n",
    "        print(\"Main model preparation...\")\n",
    "        self.user_items_list = user_items_list  # Store list item rating for user\n",
    "        self.item_users_list = []  # Store list user ratings for item\n",
    "        for i in range(self.n_items):\n",
    "            self.item_users_list.append([])\n",
    "\n",
    "        for userID, items_ratings in enumerate(user_items_list):\n",
    "            for rating, itemID in items_ratings:\n",
    "                self.item_users_list[itemID].append((rating, userID))\n",
    "\n",
    "        self.mtr = np.zeros((self.n_items, self.n_users), dtype=float)\n",
    "        self.mu = 0\n",
    "        self.n_ratings = 0\n",
    "        self.users_mean_ratings = []\n",
    "        for userID, itemRatings in enumerate(user_items_list):\n",
    "            mean_rating = self.mean([i[0] for i in itemRatings])\n",
    "            self.users_mean_ratings.append(mean_rating)\n",
    "            for rating, itemID in itemRatings:\n",
    "                self.mu += rating\n",
    "                self.n_ratings += 1\n",
    "                self.mtr[itemID][userID] = rating - mean_rating\n",
    "\n",
    "        self.mu /= self.n_ratings\n",
    "        self.mean_items_rating = np.empty(self.n_items)\n",
    "        for i in range(self.n_items):\n",
    "            mean_item_i_rating = self.mean([p[0] for p in self.item_users_list[i]])\n",
    "            self.mean_items_rating[i] = mean_item_i_rating\n",
    "        self.KNN.fit(self.mtr)\n",
    "        self.precalc_neighbors()\n",
    "\n",
    "    def precalc_neighbors(self):\n",
    "        print(\"Precalculating neighbors...\")\n",
    "        self.itemID_neighbors = []\n",
    "        for itemID in range(self.n_items):\n",
    "            distances, idxs = self.KNN.kneighbors([self.mtr[itemID]])\n",
    "            item_distances = {}\n",
    "            for i in range(self.n_neighbors):\n",
    "                idx = idxs[0][i]\n",
    "                distance = distances[0][i]\n",
    "                item_distances[idx] = distance\n",
    "            self.itemID_neighbors.append(item_distances)\n",
    "\n",
    "    def predict_item_rating_using_bl_est(self, itemID, N, items_distances, items_ratings):\n",
    "        new_mu = self.mu * self.n_ratings + sum(items_ratings.values())\n",
    "        new_mu = new_mu / (self.n_ratings + len(items_ratings))\n",
    "        user_mean_rating = self.mean(items_ratings.values())\n",
    "        item_rating = items_ratings[itemID] if itemID in items_ratings else 0\n",
    "\n",
    "        item_mean_rating = ((self.mean_items_rating[itemID] * len(self.item_users_list[itemID]) + item_rating) /\n",
    "                            (len(self.item_users_list[itemID]) + 1))\n",
    "        b_user_itemID = user_mean_rating + item_mean_rating - new_mu\n",
    "        if not N:\n",
    "            return b_user_itemID\n",
    "\n",
    "        pred_user_rating_for_itemID = 0\n",
    "        denominator = 0\n",
    "        for cur_itemID in N:\n",
    "            cur_item_mean_rating = self.mean_items_rating[cur_itemID] * len(self.item_users_list[cur_itemID]) + \\\n",
    "                                   items_ratings[cur_itemID]\n",
    "            cur_item_mean_rating = cur_item_mean_rating / (len(self.item_users_list[cur_itemID]) + 1)\n",
    "            b_user_cur_itemID = user_mean_rating + cur_item_mean_rating - new_mu\n",
    "\n",
    "            pred_user_rating_for_itemID += items_distances[cur_itemID] * (items_ratings[cur_itemID] - b_user_cur_itemID)\n",
    "            denominator += items_distances[cur_itemID]\n",
    "        pred_user_rating_for_itemID /= denominator if denominator > 1e-10 else 1\n",
    "        pred_user_rating_for_itemID += b_user_itemID\n",
    "        return pred_user_rating_for_itemID\n",
    "\n",
    "\n",
    "    def predict(self, userItems):\n",
    "        # userItems should contain items that user already rated in the following format:\n",
    "        # [(rating, item1), (rating, item2), ...]\n",
    "        rating_prediction = np.empty(self.n_items)\n",
    "        item_rating = {}\n",
    "        for rating, itemID in userItems:\n",
    "            item_rating[itemID] = rating\n",
    "\n",
    "        for itemID in range(self.n_items):\n",
    "            if itemID in item_rating:\n",
    "                rating_prediction[itemID] = item_rating[itemID]\n",
    "                continue\n",
    "            idxs = self.itemID_neighbors[itemID].keys()\n",
    "            item_distances = self.itemID_neighbors[itemID]\n",
    "            # Items that given user rated and similar to item with \"itemID\" ID\n",
    "            N = set(idxs) & set(item_rating.keys()) - {itemID}  \n",
    "            rating_prediction[itemID] = self.predict_item_rating_using_bl_est(itemID, N, item_distances, item_rating)\n",
    "\n",
    "        return rating_prediction\n"
   ],
   "metadata": {
    "collapsed": false,
    "ExecuteTime": {
     "end_time": "2023-12-02T22:53:18.936058700Z",
     "start_time": "2023-12-02T22:53:18.766212500Z"
    }
   },
   "id": "6cbf9844245b6ec9"
  },
  {
   "cell_type": "code",
   "execution_count": 46,
   "outputs": [],
   "source": [
    "import math\n",
    "\n",
    "\n",
    "def calc_avg_RMSE(X, y, model):\n",
    "    avg_RMSE = 0\n",
    "    for i, user_preference in enumerate(X):\n",
    "        RMSE = 0\n",
    "        pred = model.predict(user_preference)\n",
    "        for r, itemID in y[i]:\n",
    "            RMSE += (pred[itemID] - r) ** 2\n",
    "        RMSE = math.sqrt(RMSE / len(y_test[0]))\n",
    "        avg_RMSE += RMSE\n",
    "    avg_RMSE /= len(X_test)\n",
    "    return avg_RMSE"
   ],
   "metadata": {
    "collapsed": false,
    "ExecuteTime": {
     "end_time": "2023-12-02T22:53:19.763053200Z",
     "start_time": "2023-12-02T22:53:19.745599300Z"
    }
   },
   "id": "dc015174705b0c9b"
  },
  {
   "cell_type": "code",
   "execution_count": 48,
   "outputs": [
    {
     "name": "stdout",
     "output_type": "stream",
     "text": [
      "Main model preparation...\n",
      "Precalculating neighbors...\n",
      "Main model preparation...\n",
      "Precalculating neighbors...\n",
      "Main model preparation...\n",
      "Precalculating neighbors...\n",
      "Main model preparation...\n",
      "Precalculating neighbors...\n",
      "Main model preparation...\n",
      "Precalculating neighbors...\n",
      "Main model preparation...\n",
      "Precalculating neighbors...\n"
     ]
    },
    {
     "data": {
      "text/plain": "[0.9238525988376871,\n 0.9939193569859791,\n 0.9915727537102857,\n 0.9699771065963892,\n 0.9297583765431277,\n 0.9057782303862065]"
     },
     "execution_count": 48,
     "metadata": {},
     "output_type": "execute_result"
    }
   ],
   "source": [
    "avg_RMSEs = []\n",
    "nbs = [1, 50, 100, 200, 400, 1682]\n",
    "for nb in nbs:\n",
    "    model = ItemToItemCollaborativeFiltering(n_users=len(train_data), n_items=1682, n_neighbors=nb)\n",
    "    model.fit(train_data)\n",
    "    avg_RMSEs.append(calc_avg_RMSE(X_test, y_test, model))\n",
    "avg_RMSEs"
   ],
   "metadata": {
    "collapsed": false,
    "ExecuteTime": {
     "end_time": "2023-12-02T22:56:29.722526800Z",
     "start_time": "2023-12-02T22:53:37.029709800Z"
    }
   },
   "id": "ec6dd1e602d58193"
  },
  {
   "cell_type": "code",
   "execution_count": 49,
   "outputs": [
    {
     "data": {
      "text/plain": "<Figure size 640x480 with 1 Axes>",
      "image/png": "[encoded data removed]"
     },
     "metadata": {},
     "output_type": "display_data"
    }
   ],
   "source": [
    "import matplotlib.pyplot as plt\n",
    "\n",
    "fig, ax = plt.subplots()\n",
    "ax.plot(nbs, avg_RMSEs)\n",
    "ax.set_xlabel('Number of neighbours')\n",
    "ax.set_ylabel('RMSE')\n",
    "ax.set_title('Dependence of model RMSE on neighbour number')\n",
    "plt.show()"
   ],
   "metadata": {
    "collapsed": false,
    "ExecuteTime": {
     "end_time": "2023-12-02T22:56:30.149253100Z",
     "start_time": "2023-12-02T22:56:29.722526800Z"
    }
   },
   "id": "dfbc6c407b5d1c90"
  }
 ],
 "metadata": {
  "kernelspec": {
   "display_name": "Python 3",
   "language": "python",
   "name": "python3"
  },
  "language_info": {
   "codemirror_mode": {
    "name": "ipython",
    "version": 2
   },
   "file_extension": ".py",
   "mimetype": "text/x-python",
   "name": "python",
   "nbconvert_exporter": "python",
   "pygments_lexer": "ipython2",
   "version": "2.7.6"
  }
 },
 "nbformat": 4,
 "nbformat_minor": 5
}
